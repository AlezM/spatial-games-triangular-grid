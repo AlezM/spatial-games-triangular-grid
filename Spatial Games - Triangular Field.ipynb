{
 "cells": [
  {
   "cell_type": "code",
   "execution_count": 1,
   "metadata": {
    "collapsed": true
   },
   "outputs": [],
   "source": [
    "import numpy as np\n",
    "import matplotlib.pyplot as plt\n",
    "import matplotlib as mpl\n",
    "\n",
    "%matplotlib inline"
   ]
  },
  {
   "cell_type": "markdown",
   "metadata": {},
   "source": [
    "# Main function:"
   ]
  },
  {
   "cell_type": "code",
   "execution_count": 58,
   "metadata": {
    "collapsed": true
   },
   "outputs": [],
   "source": [
    "def SetUpMap (size, per, seed=None):\n",
    "    if (seed != None):\n",
    "        np.random.seed = seed\n",
    "    \n",
    "    if (seed == -1):\n",
    "        return np.array([[ int(i == size // 2 and j == size // 2) for i in range(size)] for j in range(size)])\n",
    "    \n",
    "    return np.array([[ int(np.random.randint(0, 100) < per) for i in range(size)] for j in range(size)])"
   ]
  },
  {
   "cell_type": "code",
   "execution_count": 57,
   "metadata": {
    "collapsed": true
   },
   "outputs": [],
   "source": [
    "def GetScoreT (field, b, i, j):  \n",
    "    n = len(field)\n",
    "    offset = np.arange(-1, 2, 1)\n",
    "    neighbors = 1 - field[ (i + offset.reshape(3, -1)) % n, (j + offset) % n ]\n",
    "    \n",
    "    neighbors[ 0,  0] = 0\n",
    "    neighbors[-1, -1] = 0\n",
    "    \n",
    "    if (field[i, j] == 1): # Defectors \n",
    "        return np.sum(neighbors, dtype=np.int) * b\n",
    "    else:                  # Cooperators\n",
    "        return np.sum(neighbors, dtype=np.int)"
   ]
  },
  {
   "cell_type": "code",
   "execution_count": 4,
   "metadata": {
    "collapsed": true
   },
   "outputs": [],
   "source": [
    "def GetBestStategyT (field, scores, i, j):\n",
    "    n = len(field)\n",
    "    offset = np.arange(-1, 2, 1)\n",
    "    neighborsScores = scores[(i + offset.reshape(3, -1)) % n, (j + offset) % n]\n",
    "    \n",
    "    neighborsScores[ 0,  0] = 0\n",
    "    neighborsScores[-1, -1] = 0\n",
    "    \n",
    "    #k = neighborsScores.argmax(axis=0) - 1\n",
    "    k = neighborsScores.argmax()\n",
    "    x = k // 3\n",
    "    y = k % 3\n",
    "    \n",
    "    #return field[ (k[0]+i)%n, (k[1]+j)%n ]\n",
    "    return field[ (x+i-1)%n, (y+j-1)%n ]"
   ]
  },
  {
   "cell_type": "code",
   "execution_count": 5,
   "metadata": {
    "collapsed": true
   },
   "outputs": [],
   "source": [
    "def NextGen (field, b):\n",
    "    n = len(field)\n",
    "    \n",
    "    scores = np.array([[GetScoreT(field, b, i, j) for j in range(n)] for i in range(n)])\n",
    "    \n",
    "    return np.array([[GetBestStategyT(field, scores, i, j) for j in range(n)] for i in range(n)])"
   ]
  },
  {
   "cell_type": "code",
   "execution_count": 26,
   "metadata": {
    "collapsed": true
   },
   "outputs": [],
   "source": [
    "def Draw(field, pointSize=10):\n",
    "    plt.figure(figsize = (20,20))\n",
    "    plt.imshow(field)\n",
    "    y, x = (1-field).nonzero()\n",
    "    plt.scatter(size + x + y*np.sin(np.pi/6), y * np.sin(np.pi/3), s=pointSize, marker='h', c='r')\n",
    "    y, x = field.nonzero()\n",
    "    plt.scatter(size + x + y*np.sin(np.pi/6), y * np.sin(np.pi/3), s=pointSize, marker='h')"
   ]
  },
  {
   "cell_type": "markdown",
   "metadata": {},
   "source": [
    "# Main program:"
   ]
  },
  {
   "cell_type": "code",
   "execution_count": 59,
   "metadata": {
    "scrolled": true
   },
   "outputs": [
    {
     "data": {
      "text/plain": [
       "<matplotlib.image.AxesImage at 0x25da9f16b38>"
      ]
     },
     "execution_count": 59,
     "metadata": {},
     "output_type": "execute_result"
    },
    {
     "data": {
      "image/png": "[encoded data removed]",
      "text/plain": [
       "<matplotlib.figure.Figure at 0x25da9878cc0>"
      ]
     },
     "metadata": {},
     "output_type": "display_data"
    }
   ],
   "source": [
    "b = 2.34\n",
    "size = 300\n",
    "field = SetUpMap(size, 1, -1)\n",
    "\n",
    "plt.imshow(field)"
   ]
  },
  {
   "cell_type": "code",
   "execution_count": 63,
   "metadata": {
    "scrolled": true
   },
   "outputs": [
    {
     "data": {
      "image/png": "[encoded data removed]",
      "text/plain": [
       "<matplotlib.figure.Figure at 0x25da983c320>"
      ]
     },
     "metadata": {},
     "output_type": "display_data"
    }
   ],
   "source": [
    "field = NextGen (field, b)\n",
    "\n",
    "Draw(field, 1)"
   ]
  },
  {
   "cell_type": "code",
   "execution_count": 64,
   "metadata": {},
   "outputs": [
    {
     "data": {
      "image/png": "[encoded data removed]",
      "text/plain": [
       "<matplotlib.figure.Figure at 0x25da983cb38>"
      ]
     },
     "metadata": {},
     "output_type": "display_data"
    }
   ],
   "source": [
    "for i in range(30):\n",
    "    field = NextGen (field, b)\n",
    "    plt.imshow(field)"
   ]
  },
  {
   "cell_type": "markdown",
   "metadata": {
    "collapsed": true
   },
   "source": [
    "y, x = (1 - field).nonzero()\n",
    "\n",
    "xDown = np.delete(x, np.where(y%2==0))\n",
    "yDown = np.delete(y, np.where(y%2==0))\n",
    "xUp = np.delete(x, np.where(y%2==1))\n",
    "yUp = np.delete(y, np.where(y%2==1))\n",
    "\n",
    "plt.scatter(xDown*np.cos(np.pi/6)*2 + yDown*np.cos(np.pi/6), (size - yDown) * np.sin(np.pi/3), s=60, marker=\"o\", c=\"b\")\n",
    "plt.scatter(xUp  *np.cos(np.pi/6)*2 + yUp  *np.cos(np.pi/6), (size - yUp)   * np.sin(np.pi/3), s=60, marker=\"o\", c=\"b\")\n",
    "\n",
    "#plt.scatter(x*np.cos(np.pi/6)*2 + y*np.cos(np.pi/6), (size-y) * np.sin(np.pi/3), s=50, marker=\"^\")\n",
    "\n",
    "\n",
    "y, x = field.nonzero()\n",
    "\n",
    "xDown = np.delete(x, np.where(y%2==0))\n",
    "yDown = np.delete(y, np.where(y%2==0))\n",
    "xUp = np.delete(x, np.where(y%2==1))\n",
    "yUp = np.delete(y, np.where(y%2==1))\n",
    "\n",
    "plt.scatter(xDown*np.cos(np.pi/6)*2 + yDown*np.cos(np.pi/6), (size - yDown) * np.sin(np.pi/3), s=60, marker=\"o\", c=\"r\")\n",
    "plt.scatter(xUp  *np.cos(np.pi/6)*2 + yUp  *np.cos(np.pi/6), (size - yUp)   * np.sin(np.pi/3), s=60, marker=\"o\", c=\"r\")"
   ]
  },
  {
   "cell_type": "code",
   "execution_count": null,
   "metadata": {
    "collapsed": true
   },
   "outputs": [],
   "source": []
  }
 ],
 "metadata": {
  "kernelspec": {
   "display_name": "Python 3",
   "language": "python",
   "name": "python3"
  },
  "language_info": {
   "codemirror_mode": {
    "name": "ipython",
    "version": 3
   },
   "file_extension": ".py",
   "mimetype": "text/x-python",
   "name": "python",
   "nbconvert_exporter": "python",
   "pygments_lexer": "ipython3",
   "version": "3.6.3"
  }
 },
 "nbformat": 4,
 "nbformat_minor": 2
}
