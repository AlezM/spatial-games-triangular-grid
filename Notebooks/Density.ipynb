{
 "cells": [
  {
   "cell_type": "code",
   "execution_count": 22,
   "metadata": {},
   "outputs": [],
   "source": [
    "from Assemblies.game import GameField\n",
    "import numpy as np\n",
    "from numpy import random\n",
    "import time\n",
    "\n",
    "%matplotlib inline\n",
    "import matplotlib.pyplot as plt\n",
    "\n",
    "np.set_printoptions(precision=3)"
   ]
  },
  {
   "cell_type": "code",
   "execution_count": 2,
   "metadata": {
    "scrolled": true
   },
   "outputs": [],
   "source": [
    "def calculate_density(size, percentage=10, tries=1, start=1, end=2, step=0.05, evol=100):\n",
    "\n",
    "    b_points = np.arange(start, end, step)\n",
    "\n",
    "    #densities = np.array([0.0 for b in b_points])\n",
    "    densities = np.array([])\n",
    "    \n",
    "    for i in range(tries):\n",
    "        random.seed(i)\n",
    "        instance = np.array(random.rand(size, size) > 0.01 * percentage, dtype=int)\n",
    "\n",
    "        density = np.array([])\n",
    "\n",
    "        print(\"\\n\" + str(i) + \" >\", end=\"\")\n",
    "        for b in b_points:\n",
    "            game = GameField(size, b)\n",
    "            game.field = np.copy(instance)\n",
    "\n",
    "            game.evolve(evol)\n",
    "            print(\"*\", end=\"\")\n",
    "            density = np.append(density, [[(np.count_nonzero(1 - game.field) / size**2)]])\n",
    "\n",
    "\n",
    "        densities = np.append(densities, density)\n",
    "\n",
    "    return densities.reshape(tries, -1)"
   ]
  },
  {
   "cell_type": "code",
   "execution_count": 49,
   "metadata": {
    "scrolled": false
   },
   "outputs": [
    {
     "name": "stdout",
     "output_type": "stream",
     "text": [
      "\n",
      "0 >**************************************************\n",
      "1 >**************************************************\n",
      "2 >**************************************************\n",
      "3 >**************************************************\n",
      "4 >**************************************************\n",
      "5 >**************************************************\n",
      "6 >**************************************************\n",
      "7 >**************************************************\n",
      "8 >**************************************************\n",
      "9 >**************************************************"
     ]
    }
   ],
   "source": [
    "densities = calculate_density(210, step=0.02, evol=250, tries=10)"
   ]
  },
  {
   "cell_type": "code",
   "execution_count": 50,
   "metadata": {},
   "outputs": [
    {
     "data": {
      "text/plain": [
       "array([0.993399, 0.997599, 0.997599, 0.997599, 0.997599, 0.997599,\n",
       "       0.997599, 0.997599, 0.997599, 0.989351, 0.991175, 0.991175,\n",
       "       0.991175, 0.946959, 0.946959, 0.946959, 0.946959, 0.938803,\n",
       "       0.938803, 0.938803, 0.932263, 0.932263, 0.932263, 0.932263,\n",
       "       0.932263, 0.976147, 0.976147, 0.976147, 0.976147, 0.976147,\n",
       "       0.976147, 0.976147, 0.976147, 0.976147, 0.975619, 0.975619,\n",
       "       0.975619, 0.975619, 0.949485, 0.949485, 0.949485, 0.949485,\n",
       "       0.949485, 0.949485, 0.949485, 0.949485, 0.949485, 0.949485,\n",
       "       0.949485, 0.949485])"
      ]
     },
     "execution_count": 50,
     "metadata": {},
     "output_type": "execute_result"
    }
   ],
   "source": [
    "avr_densities = sum(densities) / len(densities)\n",
    "avr_densities"
   ]
  },
  {
   "cell_type": "code",
   "execution_count": 51,
   "metadata": {},
   "outputs": [
    {
     "data": {
      "text/plain": [
       "array([1.677054e-04, 9.420125e-05, 9.420125e-05, 9.420125e-05,\n",
       "       9.420125e-05, 9.420125e-05, 9.420125e-05, 9.420125e-05,\n",
       "       9.420125e-05, 6.339675e-04, 4.728269e-04, 4.728269e-04,\n",
       "       4.728269e-04, 1.117713e-03, 1.117713e-03, 1.117713e-03,\n",
       "       1.117713e-03, 7.861623e-04, 7.861623e-04, 7.861623e-04,\n",
       "       1.409649e-03, 1.409649e-03, 1.409649e-03, 1.409649e-03,\n",
       "       1.409649e-03, 1.408486e-03, 1.408486e-03, 1.408486e-03,\n",
       "       1.408486e-03, 1.408486e-03, 1.408486e-03, 1.408486e-03,\n",
       "       1.408486e-03, 1.408486e-03, 1.754286e-03, 1.754286e-03,\n",
       "       1.754286e-03, 1.754286e-03, 2.772856e-03, 2.772856e-03,\n",
       "       2.772856e-03, 2.772856e-03, 2.772856e-03, 2.772856e-03,\n",
       "       2.772856e-03, 2.772856e-03, 2.772856e-03, 2.772856e-03,\n",
       "       2.772856e-03, 2.772856e-03])"
      ]
     },
     "execution_count": 51,
     "metadata": {},
     "output_type": "execute_result"
    }
   ],
   "source": [
    "errs = np.array([])\n",
    "for i in range(len(avr_densities)):\n",
    "    err = np.sqrt( sum((avr_densities[i] - densities[::, i])**2) / len(avr_densities) )\n",
    "    errs = np.append(errs, err) \n",
    "    \n",
    "np.set_printoptions(precision=6)\n",
    "errs"
   ]
  },
  {
   "cell_type": "code",
   "execution_count": null,
   "metadata": {},
   "outputs": [],
   "source": []
  },
  {
   "cell_type": "code",
   "execution_count": 57,
   "metadata": {},
   "outputs": [
    {
     "data": {
      "text/plain": [
       "<ErrorbarContainer object of 3 artists>"
      ]
     },
     "execution_count": 57,
     "metadata": {},
     "output_type": "execute_result"
    },
    {
     "data": {
      "text/plain": [
       "<Figure size 432x288 with 0 Axes>"
      ]
     },
     "metadata": {},
     "output_type": "display_data"
    },
    {
     "data": {
      "image/png": "[encoded data removed]",
      "text/plain": [
       "<Figure size 720x720 with 1 Axes>"
      ]
     },
     "metadata": {},
     "output_type": "display_data"
    }
   ],
   "source": [
    "b_points = np.arange(1, 2, 0.02)\n",
    "\n",
    "scale = 10\n",
    "plt.clf()\n",
    "plt.figure(figsize = (scale, scale))\n",
    "plt.grid(True)\n",
    "# plt.plot(b_points, avr_densities, \"o\")\n",
    "plt.errorbar(b_points, avr_densities, yerr=errs, fmt='o', capsize=3)"
   ]
  },
  {
   "cell_type": "code",
   "execution_count": null,
   "metadata": {},
   "outputs": [],
   "source": []
  },
  {
   "cell_type": "code",
   "execution_count": null,
   "metadata": {},
   "outputs": [],
   "source": []
  },
  {
   "cell_type": "code",
   "execution_count": null,
   "metadata": {},
   "outputs": [],
   "source": []
  },
  {
   "cell_type": "code",
   "execution_count": null,
   "metadata": {},
   "outputs": [],
   "source": []
  },
  {
   "cell_type": "code",
   "execution_count": null,
   "metadata": {},
   "outputs": [],
   "source": []
  },
  {
   "cell_type": "code",
   "execution_count": null,
   "metadata": {},
   "outputs": [],
   "source": []
  }
 ],
 "metadata": {
  "kernelspec": {
   "display_name": "Python 3",
   "language": "python",
   "name": "python3"
  },
  "language_info": {
   "codemirror_mode": {
    "name": "ipython",
    "version": 3
   },
   "file_extension": ".py",
   "mimetype": "text/x-python",
   "name": "python",
   "nbconvert_exporter": "python",
   "pygments_lexer": "ipython3",
   "version": "3.6.5"
  }
 },
 "nbformat": 4,
 "nbformat_minor": 2
}
